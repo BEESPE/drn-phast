{
 "cells": [
  {
   "cell_type": "markdown",
   "metadata": {},
   "source": [
    "### TP : Classification de texte avec un RNN\n",
    "\n",
    "Dans ce TP, nous allons construire un modèle de réseau de neurones récurrent (RNN) pour effectuer une analyse de sentiments sur le jeu de données IMDB. Nous suivrons les étapes suivantes :\n",
    "\n",
    "1. Préparation de l'environnement et des données.\n",
    "2. Création de l'encodeur de texte.\n",
    "3. Construction et entraînement du modèle RNN.\n",
    "4. Évaluation et visualisation des performances."
   ]
  },
  {
   "cell_type": "markdown",
   "metadata": {},
   "source": [
    "### Étape 1 : Préparation de l'environnement et des données"
   ]
  },
  {
   "cell_type": "markdown",
   "id": "91004892",
   "metadata": {},
   "source": [
    "Importez les bibliothèques nécessaires (`numpy`, `tensorflow`, `tensorflow_datasets`, `matplotlib`)."
   ]
  },
  {
   "cell_type": "code",
   "execution_count": null,
   "id": "5fa3c8d2",
   "metadata": {},
   "outputs": [],
   "source": [
    "# Votre code ici"
   ]
  },
  {
   "cell_type": "markdown",
   "id": "ede91316",
   "metadata": {},
   "source": [
    "Chargez le jeu de données IMDB via `tensorflow_datasets` et séparez-le en ensembles d'entraînement et de test."
   ]
  },
  {
   "cell_type": "code",
   "execution_count": null,
   "id": "ab3da47a",
   "metadata": {},
   "outputs": [],
   "source": [
    "# Votre code ici"
   ]
  },
  {
   "cell_type": "markdown",
   "id": "adff9a1b",
   "metadata": {},
   "source": [
    "Afficher un échantillon de données"
   ]
  },
  {
   "cell_type": "code",
   "execution_count": null,
   "id": "c869beeb",
   "metadata": {},
   "outputs": [],
   "source": [
    "# Votre code ici"
   ]
  },
  {
   "cell_type": "markdown",
   "id": "3dfe31c6",
   "metadata": {},
   "source": [
    "La cellule suivante prépare les ensembles de données en les mélangeant, les groupant en batchs, et en activant la prélecture pour optimiser les performances.\n",
    "\n",
    "Pourquoi utiliser .prefetch ? <br>\n",
    "Lors de l'entraînement d'un modèle, les étapes de traitement des données (chargement, déchiffrement, augmentation, etc.) peuvent devenir un goulot d'étranglement si elles prennent plus de temps que l'entraînement lui-même.<br>\n",
    "Sans prefetch : Le modèle attend que les données soient préparées avant de continuer son entraînement.<br>\n",
    "Avec prefetch : Les données pour la prochaine itération sont préparées en parallèle pendant que le modèle entraîne l'itération en cours.\n",
    "\n",
    "Que fait tf.data.AUTOTUNE ?<br>\n",
    "Le paramètre AUTOTUNE permet à TensorFlow de déterminer automatiquement le nombre optimal de lots de données à précharger dans le buffer, en fonction des ressources disponibles (CPU, GPU, mémoire)."
   ]
  },
  {
   "cell_type": "code",
   "execution_count": null,
   "metadata": {},
   "outputs": [],
   "source": [
    "BUFFER_SIZE = 10000\n",
    "BATCH_SIZE = 64\n",
    "\n",
    "train_dataset = train_dataset.shuffle(BUFFER_SIZE).batch(BATCH_SIZE).prefetch(tf.data.AUTOTUNE)\n",
    "test_dataset = test_dataset.batch(BATCH_SIZE).prefetch(tf.data.AUTOTUNE)\n",
    "\n",
    "# Exemple d'affichage\n",
    "for example, label in train_dataset.take(1):\n",
    "    print('Exemples de textes :', example.numpy()[:3])\n",
    "    print('Labels correspondants :', label.numpy()[:3])"
   ]
  },
  {
   "cell_type": "markdown",
   "metadata": {},
   "source": [
    "### Étape 2 : Création de l'encodeur de texte"
   ]
  },
  {
   "cell_type": "markdown",
   "id": "7ed874af",
   "metadata": {},
   "source": [
    "Utilisez `TextVectorization` de Keras pour encoder les textes en indices numériques. Adaptez l'encodeur aux données d'entraînement pour construire le vocabulaire. Note : dans TensorFlow Keras, fit est réservé à l'entraînement des modèles. Son pendant est adapt lorsqu'il concerne des couches qui \"s'ajustent\" aux données (prétraitement).\n"
   ]
  },
  {
   "cell_type": "code",
   "execution_count": null,
   "metadata": {},
   "outputs": [],
   "source": [
    "# Votre code ici"
   ]
  },
  {
   "cell_type": "markdown",
   "id": "6463b2d3",
   "metadata": {},
   "source": [
    "Affichez les 20 premiers mots du vocabulaire pour validation."
   ]
  },
  {
   "cell_type": "code",
   "execution_count": null,
   "id": "15548af7",
   "metadata": {},
   "outputs": [],
   "source": [
    "# Votre code ici"
   ]
  },
  {
   "cell_type": "markdown",
   "metadata": {},
   "source": [
    "### Étape 3 : Construction du modèle RNN"
   ]
  },
  {
   "cell_type": "markdown",
   "id": "078125e6",
   "metadata": {},
   "source": [
    "Construisez un modèle séquentiel Keras composé des couches suivantes :\n",
    "  1. L'encodeur de texte.\n",
    "  2. Une couche d'embedding avec 64 dimensions.\n",
    "  3. Une couche bidirectionnelle avec un LSTM de 64 unités.\n",
    "  4. Une couche Dense avec 64 unités et activation ReLU.\n",
    "  5. Une couche Dense avec une sortie unique (classification binaire)."
   ]
  },
  {
   "cell_type": "code",
   "execution_count": null,
   "metadata": {},
   "outputs": [],
   "source": [
    "# Votre code ici"
   ]
  },
  {
   "cell_type": "markdown",
   "id": "99ac6038",
   "metadata": {},
   "source": [
    "Compilez le modèle avec une perte de votre choix (bien choisie !), l'optimiseur `Adam` et la métrique `accuracy`."
   ]
  },
  {
   "cell_type": "code",
   "execution_count": null,
   "id": "9128d4d2",
   "metadata": {},
   "outputs": [],
   "source": [
    "# Votre code ici"
   ]
  },
  {
   "cell_type": "markdown",
   "id": "f2854ceb",
   "metadata": {},
   "source": [
    "Imaginons que nous n'ayons pas renseigné d'argument activation dans la dernière couche dense. Quel va être l'impact, s'il y en a un, par rapport au scénario où nous aurions renseigné \"sigmoid\" ? Proposer une règle pour convertir les outputs en prédictions binaires. "
   ]
  },
  {
   "cell_type": "markdown",
   "metadata": {},
   "source": [
    "### Étape 4 : Entraînement du modèle\n",
    "\n",
    "Entraînez le modèle sur le jeu d'entraînement pour 10 epochs."
   ]
  },
  {
   "cell_type": "code",
   "execution_count": null,
   "metadata": {},
   "outputs": [],
   "source": [
    "# Votre code ici"
   ]
  },
  {
   "cell_type": "markdown",
   "id": "8c78d073",
   "metadata": {},
   "source": [
    "### Etape 5 : Evaluation du modèle et affichage des résultats"
   ]
  },
  {
   "cell_type": "markdown",
   "id": "6918a538",
   "metadata": {},
   "source": [
    "Évaluez le modèle sur le jeu de test.\n",
    "Affichez les courbes d'entraînement (précision et perte)."
   ]
  },
  {
   "cell_type": "code",
   "execution_count": null,
   "id": "0c5a9083",
   "metadata": {},
   "outputs": [],
   "source": [
    "# Votre code ici"
   ]
  },
  {
   "cell_type": "code",
   "execution_count": null,
   "id": "a76967af",
   "metadata": {},
   "outputs": [],
   "source": [
    "def plot_graphs(history, metric):\n",
    "    plt.plot(history.history[metric])\n",
    "    plt.plot(history.history['val_' + metric], '')\n",
    "    plt.xlabel(\"Époques\")\n",
    "    plt.ylabel(metric)\n",
    "    plt.legend([metric, 'val_' + metric])"
   ]
  },
  {
   "cell_type": "code",
   "execution_count": null,
   "id": "6d80a450",
   "metadata": {},
   "outputs": [],
   "source": [
    "# Votre code ici"
   ]
  },
  {
   "cell_type": "markdown",
   "metadata": {},
   "source": [
    "### Étape 6 : Prédiction sur de nouveaux textes"
   ]
  },
  {
   "cell_type": "markdown",
   "id": "2f8db6a9",
   "metadata": {},
   "source": [
    "Effectuez une prédiction sur un texte d'exemple. Ajoutez un second texte rempli pour vérifier l'effet du padding sur les prédictions."
   ]
  },
  {
   "cell_type": "code",
   "execution_count": null,
   "metadata": {},
   "outputs": [],
   "source": [
    "# Votre code ici"
   ]
  },
  {
   "cell_type": "markdown",
   "metadata": {},
   "source": [
    "### Étape 7 : Ajouter une couche LSTM supplémentaire\n",
    "\n",
    "Ajoutez une seconde couche bidirectionnelle LSTM (avec `return_sequences=True` sur la première). Réentraînez le modèle et observez les performances.\n",
    "\n",
    "**A noter :** La sortie de la première couche LSTM est une séquence qui peut être traitée par la seconde couche."
   ]
  },
  {
   "cell_type": "code",
   "execution_count": null,
   "metadata": {},
   "outputs": [],
   "source": [
    "# Votre code ici"
   ]
  },
  {
   "cell_type": "code",
   "execution_count": null,
   "id": "5b653735",
   "metadata": {},
   "outputs": [],
   "source": []
  }
 ],
 "metadata": {
  "kernelspec": {
   "display_name": "test-yOZBwoax-py3.11",
   "language": "python",
   "name": "python3"
  },
  "language_info": {
   "codemirror_mode": {
    "name": "ipython",
    "version": 3
   },
   "file_extension": ".py",
   "mimetype": "text/x-python",
   "name": "python",
   "nbconvert_exporter": "python",
   "pygments_lexer": "ipython3",
   "version": "3.11.4"
  }
 },
 "nbformat": 4,
 "nbformat_minor": 5
}
