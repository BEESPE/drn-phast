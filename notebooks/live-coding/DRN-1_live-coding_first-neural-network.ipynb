{
 "cells": [
  {
   "cell_type": "markdown",
   "metadata": {},
   "source": [
    "## Implémentation d’un réseau de neurones pour une classification binaire simple avec TensorFlow/Keras, sur un cas factice."
   ]
  },
  {
   "cell_type": "markdown",
   "metadata": {},
   "source": [
    "Vous allez coder un réseau de neurones simple pour effectuer une tâche de classification binaire. Les données utilisées contiendront 2 features, seront générées à la main et suivront une règle simple : le label sera 1 si 𝑥1 > 𝑥2, 0 sinon. Ce TP vous permettra de comprendre les concepts clés liés à la création, l'entraînement, et l'évaluation d'un modèle en Keras."
   ]
  },
  {
   "cell_type": "code",
   "execution_count": 13,
   "metadata": {},
   "outputs": [],
   "source": [
    "import numpy as np\n",
    "from tensorflow.keras import Input\n",
    "from tensorflow.keras.models import Sequential\n",
    "from tensorflow.keras.layers import Dense"
   ]
  },
  {
   "cell_type": "markdown",
   "metadata": {},
   "source": [
    "### Génération du dataset d'entraînement"
   ]
  },
  {
   "cell_type": "markdown",
   "metadata": {},
   "source": [
    "Créer un tableau NumPy contenant 1000 points de données d’entraînement avec deux features 𝑥1 et 𝑥2. Assigner le label binaire 𝑦 en suivant la règle (𝑦 = 1) <=> (𝑥1 > 𝑥2)."
   ]
  },
  {
   "cell_type": "code",
   "execution_count": 14,
   "metadata": {},
   "outputs": [],
   "source": [
    "np.random.seed(10)  # graine pour la reproductibilité\n",
    "X_train = np.random.rand(1000, 2)\n",
    "y_train = (X_train[:, 0] > X_train[:, 1]).astype(int)"
   ]
  },
  {
   "cell_type": "markdown",
   "metadata": {},
   "source": [
    "Afficher les premiers point de données de 𝑋 (features) et 𝑦 (labels). Vérifier manuellement que les labels sont corrects."
   ]
  },
  {
   "cell_type": "code",
   "execution_count": 15,
   "metadata": {},
   "outputs": [
    {
     "name": "stdout",
     "output_type": "stream",
     "text": [
      "[[0.77132064 0.02075195]\n",
      " [0.63364823 0.74880388]\n",
      " [0.49850701 0.22479665]\n",
      " [0.19806286 0.76053071]\n",
      " [0.16911084 0.08833981]]\n",
      "[1 0 1 0 1]\n"
     ]
    }
   ],
   "source": [
    "print(X_train[:5])\n",
    "print(y_train[:5])"
   ]
  },
  {
   "cell_type": "markdown",
   "metadata": {},
   "source": [
    "### Création du réseau de neurones"
   ]
  },
  {
   "cell_type": "markdown",
   "metadata": {},
   "source": [
    "Initialiser un modèle séquentiel Keras. Ajouter une première couche avec 4 neurones et une activation ReLU."
   ]
  },
  {
   "cell_type": "code",
   "execution_count": 16,
   "metadata": {},
   "outputs": [],
   "source": [
    "model = Sequential()\n",
    "model.add(Input(shape=(2,)))\n",
    "model.add(Dense(4, activation=\"relu\"))"
   ]
  },
  {
   "cell_type": "markdown",
   "metadata": {},
   "source": [
    "Ajouter une couche de sortie avec un seul neurone et une activation sigmoïde pour réaliser la classification binaire."
   ]
  },
  {
   "cell_type": "code",
   "execution_count": 17,
   "metadata": {},
   "outputs": [],
   "source": [
    "model.add(Dense(1, activation=\"sigmoid\"))"
   ]
  },
  {
   "cell_type": "markdown",
   "metadata": {},
   "source": [
    "Afficher la structure du modèle avec la méthode summary()."
   ]
  },
  {
   "cell_type": "code",
   "execution_count": 18,
   "metadata": {},
   "outputs": [
    {
     "name": "stdout",
     "output_type": "stream",
     "text": [
      "Model: \"sequential_1\"\n",
      "_________________________________________________________________\n",
      " Layer (type)                Output Shape              Param #   \n",
      "=================================================================\n",
      " dense_2 (Dense)             (None, 4)                 12        \n",
      "                                                                 \n",
      " dense_3 (Dense)             (None, 1)                 5         \n",
      "                                                                 \n",
      "=================================================================\n",
      "Total params: 17 (68.00 Byte)\n",
      "Trainable params: 17 (68.00 Byte)\n",
      "Non-trainable params: 0 (0.00 Byte)\n",
      "_________________________________________________________________\n"
     ]
    }
   ],
   "source": [
    "model.summary()"
   ]
  },
  {
   "cell_type": "markdown",
   "metadata": {},
   "source": [
    "### Compilation du modèle"
   ]
  },
  {
   "cell_type": "markdown",
   "metadata": {},
   "source": [
    "Compiler le modèle en utilisant l’optimiseur Adam, la fonction de perte binary_crossentropy, et la métrique accuracy."
   ]
  },
  {
   "cell_type": "code",
   "execution_count": 19,
   "metadata": {},
   "outputs": [],
   "source": [
    "model.compile(optimizer=\"adam\", loss=\"binary_crossentropy\", metrics=[\"accuracy\"])"
   ]
  },
  {
   "cell_type": "markdown",
   "metadata": {},
   "source": [
    "### Entraînement du modèle"
   ]
  },
  {
   "cell_type": "markdown",
   "metadata": {},
   "source": [
    "Entraîner le modèle sur le dataset que vous avez généré, pendant 50 epochs, avec une taille de lot (batch size) de 2."
   ]
  },
  {
   "cell_type": "code",
   "execution_count": null,
   "metadata": {},
   "outputs": [
    {
     "name": "stdout",
     "output_type": "stream",
     "text": [
      "Epoch 1/50\n",
      "50/50 [==============================] - 1s 1ms/step - loss: 0.7059 - accuracy: 0.4900\n",
      "Epoch 2/50\n",
      "50/50 [==============================] - 0s 2ms/step - loss: 0.6790 - accuracy: 0.5350\n",
      "Epoch 3/50\n",
      "50/50 [==============================] - 0s 2ms/step - loss: 0.6582 - accuracy: 0.6870\n",
      "Epoch 4/50\n",
      "50/50 [==============================] - 0s 2ms/step - loss: 0.6449 - accuracy: 0.7860\n",
      "Epoch 5/50\n",
      "50/50 [==============================] - 0s 2ms/step - loss: 0.6327 - accuracy: 0.8250\n",
      "Epoch 6/50\n",
      "50/50 [==============================] - 0s 1ms/step - loss: 0.6203 - accuracy: 0.8600\n",
      "Epoch 7/50\n",
      "50/50 [==============================] - 0s 1ms/step - loss: 0.6068 - accuracy: 0.8780\n",
      "Epoch 8/50\n",
      "50/50 [==============================] - 0s 2ms/step - loss: 0.5928 - accuracy: 0.8860\n",
      "Epoch 9/50\n",
      "50/50 [==============================] - 0s 1ms/step - loss: 0.5781 - accuracy: 0.8910\n",
      "Epoch 10/50\n",
      "50/50 [==============================] - 0s 1ms/step - loss: 0.5628 - accuracy: 0.8940\n",
      "Epoch 11/50\n",
      "50/50 [==============================] - 0s 1ms/step - loss: 0.5467 - accuracy: 0.8990\n",
      "Epoch 12/50\n",
      "50/50 [==============================] - 0s 1ms/step - loss: 0.5303 - accuracy: 0.9070\n",
      "Epoch 13/50\n",
      "50/50 [==============================] - 0s 1ms/step - loss: 0.5136 - accuracy: 0.9100\n",
      "Epoch 14/50\n",
      "50/50 [==============================] - 0s 1ms/step - loss: 0.4966 - accuracy: 0.9180\n",
      "Epoch 15/50\n",
      "50/50 [==============================] - 0s 1ms/step - loss: 0.4798 - accuracy: 0.9160\n",
      "Epoch 16/50\n",
      "50/50 [==============================] - 0s 1ms/step - loss: 0.4633 - accuracy: 0.9210\n",
      "Epoch 17/50\n",
      "50/50 [==============================] - 0s 2ms/step - loss: 0.4470 - accuracy: 0.9260\n",
      "Epoch 18/50\n",
      "50/50 [==============================] - 0s 2ms/step - loss: 0.4313 - accuracy: 0.9300\n",
      "Epoch 19/50\n",
      "50/50 [==============================] - 0s 1ms/step - loss: 0.4161 - accuracy: 0.9320\n",
      "Epoch 20/50\n",
      "50/50 [==============================] - 0s 3ms/step - loss: 0.4014 - accuracy: 0.9340\n",
      "Epoch 21/50\n",
      "50/50 [==============================] - 0s 2ms/step - loss: 0.3876 - accuracy: 0.9370\n",
      "Epoch 22/50\n",
      "50/50 [==============================] - 0s 1ms/step - loss: 0.3740 - accuracy: 0.9360\n",
      "Epoch 23/50\n",
      "50/50 [==============================] - 0s 1ms/step - loss: 0.3613 - accuracy: 0.9380\n",
      "Epoch 24/50\n",
      "50/50 [==============================] - 0s 2ms/step - loss: 0.3491 - accuracy: 0.9390\n",
      "Epoch 25/50\n",
      "50/50 [==============================] - 0s 1ms/step - loss: 0.3376 - accuracy: 0.9410\n",
      "Epoch 26/50\n",
      "50/50 [==============================] - 0s 2ms/step - loss: 0.3267 - accuracy: 0.9430\n",
      "Epoch 27/50\n",
      "50/50 [==============================] - 0s 2ms/step - loss: 0.3166 - accuracy: 0.9480\n",
      "Epoch 28/50\n",
      "50/50 [==============================] - 0s 1ms/step - loss: 0.3067 - accuracy: 0.9470\n",
      "Epoch 29/50\n",
      "50/50 [==============================] - 0s 1ms/step - loss: 0.2977 - accuracy: 0.9480\n",
      "Epoch 30/50\n",
      "50/50 [==============================] - 0s 1ms/step - loss: 0.2890 - accuracy: 0.9510\n",
      "Epoch 31/50\n",
      "50/50 [==============================] - 0s 2ms/step - loss: 0.2809 - accuracy: 0.9530\n",
      "Epoch 32/50\n",
      "50/50 [==============================] - 0s 1ms/step - loss: 0.2729 - accuracy: 0.9520\n",
      "Epoch 33/50\n",
      "50/50 [==============================] - 0s 1ms/step - loss: 0.2657 - accuracy: 0.9520\n",
      "Epoch 34/50\n",
      "50/50 [==============================] - 0s 1ms/step - loss: 0.2587 - accuracy: 0.9520\n",
      "Epoch 35/50\n",
      "50/50 [==============================] - 0s 1ms/step - loss: 0.2520 - accuracy: 0.9540\n",
      "Epoch 36/50\n",
      "50/50 [==============================] - 0s 1ms/step - loss: 0.2458 - accuracy: 0.9550\n",
      "Epoch 37/50\n",
      "50/50 [==============================] - 0s 1ms/step - loss: 0.2397 - accuracy: 0.9560\n",
      "Epoch 38/50\n",
      "50/50 [==============================] - 0s 2ms/step - loss: 0.2343 - accuracy: 0.9550\n",
      "Epoch 39/50\n",
      "50/50 [==============================] - 0s 1ms/step - loss: 0.2286 - accuracy: 0.9580\n",
      "Epoch 40/50\n",
      "50/50 [==============================] - 0s 1ms/step - loss: 0.2236 - accuracy: 0.9570\n",
      "Epoch 41/50\n",
      "50/50 [==============================] - 0s 1ms/step - loss: 0.2186 - accuracy: 0.9590\n",
      "Epoch 42/50\n",
      "50/50 [==============================] - 0s 2ms/step - loss: 0.2139 - accuracy: 0.9580\n",
      "Epoch 43/50\n",
      "50/50 [==============================] - 0s 2ms/step - loss: 0.2095 - accuracy: 0.9600\n",
      "Epoch 44/50\n",
      "50/50 [==============================] - 0s 1ms/step - loss: 0.2052 - accuracy: 0.9590\n",
      "Epoch 45/50\n",
      "50/50 [==============================] - 0s 2ms/step - loss: 0.2011 - accuracy: 0.9600\n",
      "Epoch 46/50\n",
      "50/50 [==============================] - 0s 1ms/step - loss: 0.1973 - accuracy: 0.9630\n",
      "Epoch 47/50\n",
      "50/50 [==============================] - 0s 1ms/step - loss: 0.1936 - accuracy: 0.9640\n",
      "Epoch 48/50\n",
      "50/50 [==============================] - 0s 2ms/step - loss: 0.1899 - accuracy: 0.9650\n",
      "Epoch 49/50\n",
      "50/50 [==============================] - 0s 1ms/step - loss: 0.1866 - accuracy: 0.9620\n",
      "Epoch 50/50\n",
      "50/50 [==============================] - 0s 2ms/step - loss: 0.1832 - accuracy: 0.9640\n"
     ]
    }
   ],
   "source": [
    "history = model.fit(\n",
    "    X_train,\n",
    "    y_train,\n",
    "    epochs=50,\n",
    "    batch_size=20,  # batch size de 20 au lieu de 2\n",
    "    verbose=1,\n",
    ")"
   ]
  },
  {
   "cell_type": "markdown",
   "metadata": {},
   "source": [
    "### Test du modèle"
   ]
  },
  {
   "cell_type": "markdown",
   "metadata": {},
   "source": [
    "Créer un tableau contenant 5 nouveaux points de test avec leurs deux features 𝑥1 et 𝑥2. Assurez-vous que ces points couvrent les 2 cas 𝑥1 > 𝑥2 et 𝑥1 < 𝑥2."
   ]
  },
  {
   "cell_type": "code",
   "execution_count": 21,
   "metadata": {},
   "outputs": [],
   "source": [
    "X_test = np.array([\n",
    "    [.2, .3],  # 0\n",
    "    [.6, .2],  # 1\n",
    "    [2.18, 2.7],  # 0\n",
    "    [.41, .42],  # 0\n",
    "    [.85, 0.47],  # 1\n",
    "])"
   ]
  },
  {
   "cell_type": "markdown",
   "metadata": {},
   "source": [
    "Utiliser la méthode predict() pour obtenir les prédictions du modèle sur ces points de test."
   ]
  },
  {
   "cell_type": "code",
   "execution_count": 22,
   "metadata": {},
   "outputs": [
    {
     "name": "stdout",
     "output_type": "stream",
     "text": [
      "1/1 [==============================] - 0s 49ms/step\n",
      "Prédictions brutes : [[0.40087196]\n",
      " [0.96151185]\n",
      " [0.00221511]\n",
      " [0.5226879 ]\n",
      " [0.9408648 ]]\n"
     ]
    }
   ],
   "source": [
    "predictions = model.predict(X_test)\n",
    "print(f\"Prédictions brutes : {predictions}\")"
   ]
  },
  {
   "cell_type": "markdown",
   "metadata": {},
   "source": [
    "Convertir les prédictions en valeurs binaires (0 ou 1) en utilisant un seuil de  votre choix. Afficher les prédictions et les comparer avec la vérité terrain."
   ]
  },
  {
   "cell_type": "code",
   "execution_count": 23,
   "metadata": {},
   "outputs": [
    {
     "name": "stdout",
     "output_type": "stream",
     "text": [
      "Prédictions binaires : [[0]\n",
      " [1]\n",
      " [0]\n",
      " [1]\n",
      " [1]]\n"
     ]
    }
   ],
   "source": [
    "binary_predictions = (predictions > 0.5).astype(int)\n",
    "print(f\"Prédictions binaires : {binary_predictions}\")"
   ]
  },
  {
   "cell_type": "markdown",
   "metadata": {},
   "source": [
    "### Analyse quantifiée des résultats"
   ]
  },
  {
   "cell_type": "markdown",
   "metadata": {},
   "source": [
    "Évaluer la performance du modèle (en termes d'accuracy) sur les données de test."
   ]
  },
  {
   "cell_type": "code",
   "execution_count": null,
   "metadata": {},
   "outputs": [],
   "source": [
    "y_test = np.array([0, 1, 0, 0, 1])\n",
    "accuracy = np.mean(binary_predictions.flatten() == y_test)\n",
    "print(f\"Accuracy sur les données de test : {accuracy:.2f}\")"
   ]
  },
  {
   "cell_type": "markdown",
   "metadata": {},
   "source": [
    "Dans l'hypothèse où votre modèle échoue sur certains points de test, quelles pourraient en être les causes ?"
   ]
  },
  {
   "cell_type": "markdown",
   "metadata": {},
   "source": [
    "- Notre modèle échoue sur un point très proche de la zone d'incertitude.\n",
    "\n",
    "De manière générale, un modèle peut être peu performant dans les situations suivantes :\n",
    "- Le modèle est très simple et peut manquer de capacité pour capturer certaines variations complexes dans les données.\n",
    "- Les données d'entraînement sont peu nombreuses, ce qui peut limiter la généralisation.\n",
    "- L'initialisation des poids ou l'entraînement (nombre d'époques, batch size) pourrait ne pas être optimal."
   ]
  },
  {
   "cell_type": "markdown",
   "metadata": {},
   "source": []
  }
 ],
 "metadata": {
  "kernelspec": {
   "display_name": "test-yOZBwoax-py3.11",
   "language": "python",
   "name": "python3"
  },
  "language_info": {
   "codemirror_mode": {
    "name": "ipython",
    "version": 3
   },
   "file_extension": ".py",
   "mimetype": "text/x-python",
   "name": "python",
   "nbconvert_exporter": "python",
   "pygments_lexer": "ipython3",
   "version": "3.11.4"
  }
 },
 "nbformat": 4,
 "nbformat_minor": 2
}
