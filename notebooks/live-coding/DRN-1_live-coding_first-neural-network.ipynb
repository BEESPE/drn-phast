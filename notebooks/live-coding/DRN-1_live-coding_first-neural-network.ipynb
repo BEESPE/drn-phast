{
 "cells": [
  {
   "cell_type": "markdown",
   "metadata": {},
   "source": [
    "## Implémentation d’un réseau de neurones pour une classification binaire simple avec TensorFlow/Keras, sur un cas factice."
   ]
  },
  {
   "cell_type": "markdown",
   "metadata": {},
   "source": [
    "Vous allez coder un réseau de neurones simple pour effectuer une tâche de classification binaire. Les données utilisées contiendront 2 features, seront générées à la main et suivront une règle simple : le label sera 1 si 𝑥1 > 𝑥2, 0 sinon. Ce TP vous permettra de comprendre les concepts clés liés à la création, l'entraînement, et l'évaluation d'un modèle en Keras."
   ]
  },
  {
   "cell_type": "code",
   "execution_count": 1,
   "metadata": {},
   "outputs": [],
   "source": [
    "import numpy as np\n",
    "from tensorflow.keras import Input\n",
    "from tensorflow.keras.models import Sequential\n",
    "from tensorflow.keras.layers import Dense"
   ]
  },
  {
   "cell_type": "markdown",
   "metadata": {},
   "source": [
    "### Génération du dataset d'entraînement"
   ]
  },
  {
   "cell_type": "markdown",
   "metadata": {},
   "source": [
    "Créer un tableau NumPy contenant 1000 points de données d’entraînement avec deux features 𝑥1 et 𝑥2. Assigner le label binaire 𝑦 en suivant la règle (𝑦 = 1) <=> (𝑥1 > 𝑥2)."
   ]
  },
  {
   "cell_type": "code",
   "execution_count": 2,
   "metadata": {},
   "outputs": [],
   "source": [
    "np.random.seed(10)  # graine pour la reproductibilité\n",
    "X_train = np.random.rand(1000, 2)\n",
    "y_train = (X_train[:, 0] > X_train[:, 1]).astype(int)"
   ]
  },
  {
   "cell_type": "markdown",
   "metadata": {},
   "source": [
    "Afficher les premiers point de données de 𝑋 (features) et 𝑦 (labels). Vérifier manuellement que les labels sont corrects."
   ]
  },
  {
   "cell_type": "code",
   "execution_count": 3,
   "metadata": {},
   "outputs": [
    {
     "name": "stdout",
     "output_type": "stream",
     "text": [
      "[[0.77132064 0.02075195]\n",
      " [0.63364823 0.74880388]\n",
      " [0.49850701 0.22479665]\n",
      " [0.19806286 0.76053071]\n",
      " [0.16911084 0.08833981]]\n",
      "[1 0 1 0 1]\n"
     ]
    }
   ],
   "source": [
    "print(X_train[:5])\n",
    "print(y_train[:5])"
   ]
  },
  {
   "cell_type": "markdown",
   "metadata": {},
   "source": [
    "### Création du réseau de neurones"
   ]
  },
  {
   "cell_type": "markdown",
   "metadata": {},
   "source": [
    "Initialiser un modèle séquentiel Keras. Ajouter une première couche avec 4 neurones et une activation ReLU."
   ]
  },
  {
   "cell_type": "code",
   "execution_count": 4,
   "metadata": {},
   "outputs": [],
   "source": [
    "model = Sequential()\n",
    "model.add(Input(shape=(2,)))\n",
    "model.add(Dense(4, activation=\"relu\"))"
   ]
  },
  {
   "cell_type": "markdown",
   "metadata": {},
   "source": [
    "Ajouter une couche de sortie avec un seul neurone et une activation sigmoïde pour réaliser la classification binaire."
   ]
  },
  {
   "cell_type": "code",
   "execution_count": 5,
   "metadata": {},
   "outputs": [],
   "source": [
    "model.add(Dense(1, activation=\"sigmoid\"))"
   ]
  },
  {
   "cell_type": "markdown",
   "metadata": {},
   "source": [
    "Afficher la structure du modèle avec la méthode summary()."
   ]
  },
  {
   "cell_type": "code",
   "execution_count": 6,
   "metadata": {},
   "outputs": [
    {
     "name": "stdout",
     "output_type": "stream",
     "text": [
      "Model: \"sequential\"\n",
      "_________________________________________________________________\n",
      " Layer (type)                Output Shape              Param #   \n",
      "=================================================================\n",
      " dense (Dense)               (None, 4)                 12        \n",
      "                                                                 \n",
      " dense_1 (Dense)             (None, 1)                 5         \n",
      "                                                                 \n",
      "=================================================================\n",
      "Total params: 17 (68.00 Byte)\n",
      "Trainable params: 17 (68.00 Byte)\n",
      "Non-trainable params: 0 (0.00 Byte)\n",
      "_________________________________________________________________\n"
     ]
    }
   ],
   "source": [
    "model.summary()"
   ]
  },
  {
   "cell_type": "markdown",
   "metadata": {},
   "source": [
    "### Compilation du modèle"
   ]
  },
  {
   "cell_type": "markdown",
   "metadata": {},
   "source": [
    "Compiler le modèle en utilisant l’optimiseur Adam, la fonction de perte binary_crossentropy, et la métrique accuracy."
   ]
  },
  {
   "cell_type": "code",
   "execution_count": 7,
   "metadata": {},
   "outputs": [],
   "source": [
    "model.compile(optimizer=\"adam\", loss=\"binary_crossentropy\", metrics=[\"accuracy\"])"
   ]
  },
  {
   "cell_type": "markdown",
   "metadata": {},
   "source": [
    "### Entraînement du modèle"
   ]
  },
  {
   "cell_type": "markdown",
   "metadata": {},
   "source": [
    "Entraîner le modèle sur le dataset que vous avez généré, pendant 50 epochs, avec une taille de lot (batch size) de 2."
   ]
  },
  {
   "cell_type": "code",
   "execution_count": 8,
   "metadata": {},
   "outputs": [
    {
     "name": "stdout",
     "output_type": "stream",
     "text": [
      "Epoch 1/50\n",
      "50/50 [==============================] - 1s 4ms/step - loss: 0.7668 - accuracy: 0.0690\n",
      "Epoch 2/50\n",
      "50/50 [==============================] - 0s 2ms/step - loss: 0.7503 - accuracy: 0.0830\n",
      "Epoch 3/50\n",
      "50/50 [==============================] - 0s 1ms/step - loss: 0.7353 - accuracy: 0.1220\n",
      "Epoch 4/50\n",
      "50/50 [==============================] - 0s 2ms/step - loss: 0.7205 - accuracy: 0.1770\n",
      "Epoch 5/50\n",
      "50/50 [==============================] - 0s 2ms/step - loss: 0.7060 - accuracy: 0.2550\n",
      "Epoch 6/50\n",
      "50/50 [==============================] - 0s 2ms/step - loss: 0.6909 - accuracy: 0.5670\n",
      "Epoch 7/50\n",
      "50/50 [==============================] - 0s 1ms/step - loss: 0.6760 - accuracy: 0.7780\n",
      "Epoch 8/50\n",
      "50/50 [==============================] - 0s 1ms/step - loss: 0.6640 - accuracy: 0.8170\n",
      "Epoch 9/50\n",
      "50/50 [==============================] - 0s 2ms/step - loss: 0.6539 - accuracy: 0.8250\n",
      "Epoch 10/50\n",
      "50/50 [==============================] - 0s 2ms/step - loss: 0.6440 - accuracy: 0.8140\n",
      "Epoch 11/50\n",
      "50/50 [==============================] - 0s 2ms/step - loss: 0.6335 - accuracy: 0.8340\n",
      "Epoch 12/50\n",
      "50/50 [==============================] - 0s 2ms/step - loss: 0.6223 - accuracy: 0.8280\n",
      "Epoch 13/50\n",
      "50/50 [==============================] - 0s 2ms/step - loss: 0.6105 - accuracy: 0.8400\n",
      "Epoch 14/50\n",
      "50/50 [==============================] - 0s 3ms/step - loss: 0.5977 - accuracy: 0.8420\n",
      "Epoch 15/50\n",
      "50/50 [==============================] - 0s 1ms/step - loss: 0.5841 - accuracy: 0.8570\n",
      "Epoch 16/50\n",
      "50/50 [==============================] - 0s 2ms/step - loss: 0.5698 - accuracy: 0.8670\n",
      "Epoch 17/50\n",
      "50/50 [==============================] - 0s 2ms/step - loss: 0.5548 - accuracy: 0.8730\n",
      "Epoch 18/50\n",
      "50/50 [==============================] - 0s 1ms/step - loss: 0.5390 - accuracy: 0.8870\n",
      "Epoch 19/50\n",
      "50/50 [==============================] - 0s 1ms/step - loss: 0.5228 - accuracy: 0.9010\n",
      "Epoch 20/50\n",
      "50/50 [==============================] - 0s 1ms/step - loss: 0.5062 - accuracy: 0.9140\n",
      "Epoch 21/50\n",
      "50/50 [==============================] - 0s 1ms/step - loss: 0.4891 - accuracy: 0.9220\n",
      "Epoch 22/50\n",
      "50/50 [==============================] - 0s 1ms/step - loss: 0.4721 - accuracy: 0.9240\n",
      "Epoch 23/50\n",
      "50/50 [==============================] - 0s 2ms/step - loss: 0.4553 - accuracy: 0.9230\n",
      "Epoch 24/50\n",
      "50/50 [==============================] - 0s 1ms/step - loss: 0.4387 - accuracy: 0.9290\n",
      "Epoch 25/50\n",
      "50/50 [==============================] - 0s 2ms/step - loss: 0.4227 - accuracy: 0.9320\n",
      "Epoch 26/50\n",
      "50/50 [==============================] - 0s 1ms/step - loss: 0.4071 - accuracy: 0.9360\n",
      "Epoch 27/50\n",
      "50/50 [==============================] - 0s 2ms/step - loss: 0.3921 - accuracy: 0.9380\n",
      "Epoch 28/50\n",
      "50/50 [==============================] - 0s 1ms/step - loss: 0.3780 - accuracy: 0.9400\n",
      "Epoch 29/50\n",
      "50/50 [==============================] - 0s 1ms/step - loss: 0.3640 - accuracy: 0.9420\n",
      "Epoch 30/50\n",
      "50/50 [==============================] - 0s 2ms/step - loss: 0.3511 - accuracy: 0.9460\n",
      "Epoch 31/50\n",
      "50/50 [==============================] - 0s 2ms/step - loss: 0.3389 - accuracy: 0.9480\n",
      "Epoch 32/50\n",
      "50/50 [==============================] - 0s 2ms/step - loss: 0.3273 - accuracy: 0.9520\n",
      "Epoch 33/50\n",
      "50/50 [==============================] - 0s 2ms/step - loss: 0.3163 - accuracy: 0.9500\n",
      "Epoch 34/50\n",
      "50/50 [==============================] - 0s 2ms/step - loss: 0.3060 - accuracy: 0.9530\n",
      "Epoch 35/50\n",
      "50/50 [==============================] - 0s 2ms/step - loss: 0.2963 - accuracy: 0.9540\n",
      "Epoch 36/50\n",
      "50/50 [==============================] - 0s 2ms/step - loss: 0.2872 - accuracy: 0.9540\n",
      "Epoch 37/50\n",
      "50/50 [==============================] - 0s 2ms/step - loss: 0.2792 - accuracy: 0.9540\n",
      "Epoch 38/50\n",
      "50/50 [==============================] - 0s 2ms/step - loss: 0.2707 - accuracy: 0.9570\n",
      "Epoch 39/50\n",
      "50/50 [==============================] - 0s 2ms/step - loss: 0.2631 - accuracy: 0.9560\n",
      "Epoch 40/50\n",
      "50/50 [==============================] - 0s 2ms/step - loss: 0.2559 - accuracy: 0.9560\n",
      "Epoch 41/50\n",
      "50/50 [==============================] - 0s 2ms/step - loss: 0.2491 - accuracy: 0.9560\n",
      "Epoch 42/50\n",
      "50/50 [==============================] - 0s 2ms/step - loss: 0.2429 - accuracy: 0.9580\n",
      "Epoch 43/50\n",
      "50/50 [==============================] - 0s 2ms/step - loss: 0.2366 - accuracy: 0.9600\n",
      "Epoch 44/50\n",
      "50/50 [==============================] - 0s 2ms/step - loss: 0.2310 - accuracy: 0.9610\n",
      "Epoch 45/50\n",
      "50/50 [==============================] - 0s 2ms/step - loss: 0.2256 - accuracy: 0.9620\n",
      "Epoch 46/50\n",
      "50/50 [==============================] - 0s 2ms/step - loss: 0.2203 - accuracy: 0.9640\n",
      "Epoch 47/50\n",
      "50/50 [==============================] - 0s 2ms/step - loss: 0.2154 - accuracy: 0.9640\n",
      "Epoch 48/50\n",
      "50/50 [==============================] - 0s 2ms/step - loss: 0.2110 - accuracy: 0.9630\n",
      "Epoch 49/50\n",
      "50/50 [==============================] - 0s 2ms/step - loss: 0.2064 - accuracy: 0.9640\n",
      "Epoch 50/50\n",
      "50/50 [==============================] - 0s 2ms/step - loss: 0.2022 - accuracy: 0.9660\n"
     ]
    }
   ],
   "source": [
    "history = model.fit(X_train, y_train, epochs=50, batch_size=20, verbose=1)"
   ]
  },
  {
   "cell_type": "markdown",
   "metadata": {},
   "source": [
    "### Test du modèle"
   ]
  },
  {
   "cell_type": "markdown",
   "metadata": {},
   "source": [
    "Créer un tableau contenant 5 nouveaux points de test avec leurs deux features 𝑥1 et 𝑥2. Assurez-vous que ces points couvrent les 2 cas 𝑥1 > 𝑥2 et 𝑥1 < 𝑥2."
   ]
  },
  {
   "cell_type": "code",
   "execution_count": 9,
   "metadata": {},
   "outputs": [],
   "source": [
    "X_test = np.array([\n",
    "    [.2, .3],  # 0\n",
    "    [.6, .2],  # 1\n",
    "    [2.18, 2.7],  # 0\n",
    "    [.41, .42],  # 0\n",
    "    [.85, 0.47],  # 1\n",
    "])"
   ]
  },
  {
   "cell_type": "markdown",
   "metadata": {},
   "source": [
    "Utiliser la méthode predict() pour obtenir les prédictions du modèle sur ces points de test."
   ]
  },
  {
   "cell_type": "code",
   "execution_count": 10,
   "metadata": {},
   "outputs": [
    {
     "name": "stdout",
     "output_type": "stream",
     "text": [
      "1/1 [==============================] - 0s 85ms/step\n",
      "Prédictions brutes : [[0.4061561 ]\n",
      " [0.94504726]\n",
      " [0.0048269 ]\n",
      " [0.516763  ]\n",
      " [0.92118007]]\n"
     ]
    }
   ],
   "source": [
    "predictions = model.predict(X_test)\n",
    "print(f\"Prédictions brutes : {predictions}\")"
   ]
  },
  {
   "cell_type": "markdown",
   "metadata": {},
   "source": [
    "Convertir les prédictions en valeurs binaires (0 ou 1) en utilisant un seuil de  votre choix. Afficher les prédictions et les comparer avec la vérité terrain."
   ]
  },
  {
   "cell_type": "code",
   "execution_count": 11,
   "metadata": {},
   "outputs": [
    {
     "name": "stdout",
     "output_type": "stream",
     "text": [
      "Prédictions binaires : [[0]\n",
      " [1]\n",
      " [0]\n",
      " [1]\n",
      " [1]]\n"
     ]
    }
   ],
   "source": [
    "binary_predictions = (predictions > 0.5).astype(int)\n",
    "print(f\"Prédictions binaires : {binary_predictions}\")"
   ]
  },
  {
   "cell_type": "markdown",
   "metadata": {},
   "source": [
    "### Analyse quantifiée des résultats"
   ]
  },
  {
   "cell_type": "markdown",
   "metadata": {},
   "source": [
    "Évaluer la performance du modèle (en termes d'accuracy) sur les données de test."
   ]
  },
  {
   "cell_type": "code",
   "execution_count": 12,
   "metadata": {},
   "outputs": [],
   "source": [
    "# Votre code ici"
   ]
  },
  {
   "cell_type": "markdown",
   "metadata": {},
   "source": [
    "Dans l'hypothèse où votre modèle échoue sur certains points de test, quelles pourraient en être les causes ?"
   ]
  },
  {
   "cell_type": "markdown",
   "metadata": {},
   "source": [
    "Votre réponse ici"
   ]
  },
  {
   "cell_type": "markdown",
   "metadata": {},
   "source": []
  }
 ],
 "metadata": {
  "kernelspec": {
   "display_name": "test-yOZBwoax-py3.11",
   "language": "python",
   "name": "python3"
  },
  "language_info": {
   "codemirror_mode": {
    "name": "ipython",
    "version": 3
   },
   "file_extension": ".py",
   "mimetype": "text/x-python",
   "name": "python",
   "nbconvert_exporter": "python",
   "pygments_lexer": "ipython3",
   "version": "3.11.4"
  }
 },
 "nbformat": 4,
 "nbformat_minor": 2
}
